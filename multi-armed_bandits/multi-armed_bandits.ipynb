{
 "cells": [
  {
   "cell_type": "markdown",
   "metadata": {},
   "source": [
    "# Multi-armed Bandits\n",
    "An implementation of the $k$-armed bandit problem with greedy and $\\epsilon$-greedy action selection methods as described in Chapter 2 of _Reinforcement Learning: An Introduction, 2nd Edition (2018)_ by Richard S. Sutton and Andrew G. Barto. "
   ]
  },
  {
   "cell_type": "code",
   "execution_count": 1,
   "metadata": {},
   "outputs": [],
   "source": [
    "%load_ext autoreload\n",
    "%autoreload 2\n",
    "\n",
    "import numpy as np\n",
    "import scipy as sp"
   ]
  },
  {
   "cell_type": "code",
   "execution_count": 7,
   "metadata": {},
   "outputs": [],
   "source": [
    "class KArmedBandit:\n",
    "    \"\"\"\n",
    "    Class implementing a k-armed bandit.\n",
    "    \n",
    "    For each of the k actions, the expected action is initialised from a\n",
    "    Gaussian distribution with mean 0 and unit variance.\n",
    "    \n",
    "    The reward for each action is then selected from a Gaussian distribution\n",
    "    with mean of the expected action and unit variance.\n",
    "    \n",
    "    Args:\n",
    "        k (int, default=10): Number of actions (arms)\n",
    "    Atributes:\n",
    "        q_a (1D array of floats): List of expected action values with length k\n",
    "    \"\"\"\n",
    "    \n",
    "    def __init__(self, k=10):\n",
    "        \"\"\"\n",
    "        Initialise expected action values\n",
    "        \"\"\"\n",
    "        self.k = k\n",
    "        self.q_a = np.random.normal(0.0, 1.0, k)\n",
    "    \n",
    "    def reward(self, action):\n",
    "        \"\"\"\n",
    "        Generate reward for a particular action.\n",
    "        \n",
    "        Args:\n",
    "            action (int): Integer action from 0 to k-1\n",
    "        \"\"\"\n",
    "        return np.random.normal(self.q_a[action], 1.0)"
   ]
  },
  {
   "cell_type": "code",
   "execution_count": 20,
   "metadata": {},
   "outputs": [],
   "source": [
    "class GreedyAgent:\n",
    "    \"\"\"\n",
    "    Class implementing an agent using greedy or epsilon-greedy action-value methods\n",
    "    \n",
    "    Args:\n",
    "        bandit: An instance of a KArmedBandit. This will be the bandot from which\n",
    "            the agent acts on and draws rewards\n",
    "        epsilon (optional float [0,1], default None): Parameter for epsilon-greedy\n",
    "            action value method. If None, a greedy method will be used.\n",
    "    \n",
    "    Attributes:\n",
    "        Qn: array of expected rewards for actions 1 to k at the nth step\n",
    "        steps: number of steps performed\n",
    "        accumulated_reward: total reward accumulated at current timestep\n",
    "    \"\"\"\n",
    "    \n",
    "    def __init__(self, bandit, epsilon=None):\n",
    "\n",
    "        self.bandit = bandit\n",
    "        self.k = bandit.k\n",
    "        self.Qn = np.zeros(k)\n",
    "        self.steps = 0\n",
    "        self.accumulated_reward = 0.0\n",
    "        self.epsilon = epsilon\n",
    "    \n",
    "    def perform_action(self):\n",
    "        \"\"\"\n",
    "        Select an action to perform, obtain reward and update expected rewards,\n",
    "        steps and accumulated reward\n",
    "        \"\"\"\n",
    "        if step == 0:\n",
    "            # randomly choose an initial action\n",
    "            a = np.random.randint(0, k)\n",
    "        else:\n",
    "            # choose action corresponding to largest expected reward\n",
    "            a = np.argmax(self.Qn_a)\n",
    "        if epsilon:\n",
    "            if np.random.rand() < epsilon:\n",
    "                a = np.random.randint(0, k)\n",
    "        \n",
    "        reward = self.bandit.reward(a)\n",
    "        \n",
    "        self.steps += 1\n",
    "        self.accumulated_reward += reward\n",
    "        # update expected reward\n",
    "        self.Qn[a] += (reward - self.Qn[a])/self.steps"
   ]
  }
 ],
 "metadata": {
  "kernelspec": {
   "display_name": "Python (nlp)",
   "language": "python",
   "name": "nlp"
  },
  "language_info": {
   "codemirror_mode": {
    "name": "ipython",
    "version": 3
   },
   "file_extension": ".py",
   "mimetype": "text/x-python",
   "name": "python",
   "nbconvert_exporter": "python",
   "pygments_lexer": "ipython3",
   "version": "3.6.8"
  }
 },
 "nbformat": 4,
 "nbformat_minor": 2
}
