{
 "cells": [
  {
   "cell_type": "markdown",
   "metadata": {},
   "source": [
    "# Multi-armed Bandits\n",
    "An implementation of the $k$-armed bandit problem with greedy and $\\epsilon$-greedy action selection methods as described in Chapter 2 of _Reinforcement Learning: An Introduction, 2nd Edition (2018)_ by Richard S. Sutton and Andrew G. Barto. "
   ]
  },
  {
   "cell_type": "code",
   "execution_count": 2,
   "metadata": {},
   "outputs": [
    {
     "name": "stdout",
     "output_type": "stream",
     "text": [
      "The autoreload extension is already loaded. To reload it, use:\n",
      "  %reload_ext autoreload\n"
     ]
    }
   ],
   "source": [
    "%load_ext autoreload\n",
    "%autoreload 2\n",
    "\n",
    "import numpy as np\n",
    "import scipy as sp"
   ]
  },
  {
   "cell_type": "code",
   "execution_count": 7,
   "metadata": {},
   "outputs": [],
   "source": [
    "class KArmedBandit:\n",
    "    \"\"\"\n",
    "    Class implementing a k-armed bandit.\n",
    "    \n",
    "    For each of the k actions, the expected action is initialised from a\n",
    "    Gaussian distribution with mean 0 and unit variance.\n",
    "    \n",
    "    The reward for each action is then selected from a Gaussian distribution\n",
    "    with mean of the expected action and unit variance.\n",
    "    \n",
    "    Args:\n",
    "        k (int, default=10): Number of actions (arms)\n",
    "    Atributes:\n",
    "        q_a (1D array of floats): List of expected action values with length k\n",
    "    \"\"\"\n",
    "    \n",
    "    def __init__(self, k=10):\n",
    "        \"\"\"\n",
    "        Initialise expected action values\n",
    "        \"\"\"\n",
    "        self.k = k\n",
    "        self.q_a = np.random.normal(0.0, 1.0, k)\n",
    "    \n",
    "    def reward(self, action):\n",
    "        \"\"\"\n",
    "        Generate reward for a particular action.\n",
    "        \n",
    "        Args:\n",
    "            action (int): Integer action from 0 to k-1\n",
    "        \"\"\"\n",
    "        return np.random.normal(self.q_a[action], 1.0)"
   ]
  }
 ],
 "metadata": {
  "kernelspec": {
   "display_name": "Python (nlp)",
   "language": "python",
   "name": "nlp"
  },
  "language_info": {
   "codemirror_mode": {
    "name": "ipython",
    "version": 3
   },
   "file_extension": ".py",
   "mimetype": "text/x-python",
   "name": "python",
   "nbconvert_exporter": "python",
   "pygments_lexer": "ipython3",
   "version": "3.6.8"
  }
 },
 "nbformat": 4,
 "nbformat_minor": 2
}
